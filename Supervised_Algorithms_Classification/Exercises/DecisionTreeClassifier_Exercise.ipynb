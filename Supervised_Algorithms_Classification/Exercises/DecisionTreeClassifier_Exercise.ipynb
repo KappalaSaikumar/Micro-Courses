{
  "nbformat": 4,
  "nbformat_minor": 0,
  "metadata": {
    "colab": {
      "name": "DecisionTreeClassifier_Exercise.ipynb",
      "provenance": [],
      "authorship_tag": "ABX9TyMKOAYOdxzwUZbYb6TEBYQI",
      "include_colab_link": true
    },
    "kernelspec": {
      "name": "python3",
      "display_name": "Python 3"
    }
  },
  "cells": [
    {
      "cell_type": "markdown",
      "metadata": {
        "id": "view-in-github",
        "colab_type": "text"
      },
      "source": [
        "<a href=\"https://colab.research.google.com/github/dphi-official/Micro-Courses/blob/master/Supervised_Algorithms_Classification/Exercises/DecisionTreeClassifier_Exercise.ipynb\" target=\"_parent\"><img src=\"https://colab.research.google.com/assets/colab-badge.svg\" alt=\"Open In Colab\"/></a>"
      ]
    },
    {
      "cell_type": "markdown",
      "metadata": {
        "id": "Hh-T95-q4Qpn"
      },
      "source": [
        "# Objectives\n",
        "Predict whether or not an object is a mine or a rock given the strength of sonar returns at different angles.\n",
        "\n",
        "The data is taken from [DataHub](https://datahub.io/machine-learning/sonar#resource-sonar_zip)."
      ]
    },
    {
      "cell_type": "markdown",
      "metadata": {
        "id": "uIRCUn6y4xh8"
      },
      "source": [
        "## Tasks\n",
        "1. Load the data from https://raw.githubusercontent.com/dphi-official/Datasets/master/sonar.csv\n",
        "2. Create a Decision Tree Classifier on the data and train it\n",
        "3. Determine the accuracy score and f1 score of the model. \n",
        "4. Tweak the parameters(like no. of trees) to improve model performance\n",
        "5. How many trees give the best result?\n",
        "6. Visualise the Decision Tree created by plotting it"
      ]
    }
  ]
}