{
  "nbformat": 4,
  "nbformat_minor": 0,
  "metadata": {
    "colab": {
      "name": "Naive_Bayes_Exercise.ipynb",
      "provenance": [],
      "authorship_tag": "ABX9TyM/lm6+yaLK7Kn1LAjC//bS",
      "include_colab_link": true
    },
    "kernelspec": {
      "name": "python3",
      "display_name": "Python 3"
    }
  },
  "cells": [
    {
      "cell_type": "markdown",
      "metadata": {
        "id": "view-in-github",
        "colab_type": "text"
      },
      "source": [
        "<a href=\"https://colab.research.google.com/github/dphi-official/Micro-Courses/blob/master/Supervised_Algorithms_Classification/Exercises/Naive_Bayes_Exercise.ipynb\" target=\"_parent\"><img src=\"https://colab.research.google.com/assets/colab-badge.svg\" alt=\"Open In Colab\"/></a>"
      ]
    },
    {
      "cell_type": "markdown",
      "metadata": {
        "id": "ZG3gHTAPW59O"
      },
      "source": [
        "# Objective\n",
        "To classify wine into one of the 3 categories. \n",
        "\n",
        "## Tasks\n",
        "1. Import the wine dataset from sklearn.datasets\n",
        "2. Create a DataFrame of the input and target values\n",
        "3. Split into train and test sets with ratio 80:20\n",
        "4. Train a Gaussian Naive Bayes Classifier and find its accuracy\n",
        "5. Train a Multinomial Naive Bayes Classifier and find its accuracy\n",
        "6. Which of the above two models performs better?"
      ]
    },
    {
      "cell_type": "code",
      "metadata": {
        "id": "QHLXmaKEW0yv"
      },
      "source": [
        ""
      ],
      "execution_count": null,
      "outputs": []
    }
  ]
}