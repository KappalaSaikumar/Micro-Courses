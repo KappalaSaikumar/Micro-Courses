{
  "nbformat": 4,
  "nbformat_minor": 0,
  "metadata": {
    "colab": {
      "name": "Random_Forest_Exercise.ipynb",
      "provenance": [],
      "collapsed_sections": [],
      "authorship_tag": "ABX9TyOTWT3/Y0rkT0z3i1ZYOj5w",
      "include_colab_link": true
    },
    "kernelspec": {
      "name": "python3",
      "display_name": "Python 3"
    }
  },
  "cells": [
    {
      "cell_type": "markdown",
      "metadata": {
        "id": "view-in-github",
        "colab_type": "text"
      },
      "source": [
        "<a href=\"https://colab.research.google.com/github/dphi-official/Micro-Courses/blob/master/Supervised_Algorithms_Classification/Exercises/Random_Forest_Exercise.ipynb\" target=\"_parent\"><img src=\"https://colab.research.google.com/assets/colab-badge.svg\" alt=\"Open In Colab\"/></a>"
      ]
    },
    {
      "cell_type": "markdown",
      "metadata": {
        "id": "drVcw7ClTY2E"
      },
      "source": [
        "# Objective\n",
        "Predict the flower species in Iris Dataset using Random Forest Classifier.\n"
      ]
    },
    {
      "cell_type": "markdown",
      "metadata": {
        "id": "-BWY-a92UIt9"
      },
      "source": [
        "## Tasks\n",
        "1. Import the iris dataset from sklearn.datasets\n",
        "2. Create a DataFrame of the input and target values\n",
        "3. Split into train and test sets with ratio 80:20\n",
        "4. Train the random forest classifier with default parameters\n",
        "5. Tweak the parameters(no. of trees etc) and try to achieve the maximum accuracy possible\n",
        "6. How many trees give the best accuracy?"
      ]
    },
    {
      "cell_type": "code",
      "metadata": {
        "id": "kTPKjapITMSN"
      },
      "source": [
        ""
      ],
      "execution_count": null,
      "outputs": []
    }
  ]
}