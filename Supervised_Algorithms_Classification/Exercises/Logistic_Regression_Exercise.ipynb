{
  "nbformat": 4,
  "nbformat_minor": 0,
  "metadata": {
    "colab": {
      "name": "Logistic_Regression_Exercise.ipynb",
      "provenance": [],
      "collapsed_sections": [],
      "authorship_tag": "ABX9TyMlaVu5dkkgJNK2bC9PchIk",
      "include_colab_link": true
    },
    "kernelspec": {
      "name": "python3",
      "display_name": "Python 3"
    }
  },
  "cells": [
    {
      "cell_type": "markdown",
      "metadata": {
        "id": "view-in-github",
        "colab_type": "text"
      },
      "source": [
        "<a href=\"https://colab.research.google.com/github/dphi-official/Micro-Courses/blob/master/Supervised_Algorithms_Classification/Exercises/Logistic_Regression_Exercise.ipynb\" target=\"_parent\"><img src=\"https://colab.research.google.com/assets/colab-badge.svg\" alt=\"Open In Colab\"/></a>"
      ]
    },
    {
      "cell_type": "markdown",
      "metadata": {
        "id": "_5efUKH5aw4M"
      },
      "source": [
        "# Objective\n",
        "To determine the employee retention i.e to determine if the feature 'left' is 0 or 1.\n",
        "\n",
        "The data is taken from [Kaggle](https://www.kaggle.com/giripujar/hr-analytics) and made a bit simpler."
      ]
    },
    {
      "cell_type": "markdown",
      "metadata": {
        "id": "rGl-Y4p4f8BP"
      },
      "source": [
        "## Tasks:\n",
        "\n",
        "1. Load the data from https://raw.githubusercontent.com/dphi-official/Datasets/master/HR_analysis.csv\n",
        "2. The 'salary' column has text data. Use One Hot Encoing to turn it into numeric.\n",
        "3. Split the given data into train and test sets.\n",
        "4. Determine the accuracy score.\n",
        "\n",
        "PS. You might need to use max_iter=1000 inside Logistic Regression in case the no. of epochs exceed the maximum limit."
      ]
    },
    {
      "cell_type": "code",
      "metadata": {
        "id": "iFE4ikp_asGr"
      },
      "source": [
        "import pandas as pd\n",
        "import numpy as np\n",
        "from sklearn.linear_model import LogisticRegression\n",
        "import matplotlib.pyplot as plt\n",
        "from sklearn.model_selection import train_test_split\n",
        "from sklearn.metrics import accuracy_score"
      ],
      "execution_count": null,
      "outputs": []
    },
    {
      "cell_type": "code",
      "metadata": {
        "id": "tDbHW7BGRm2F"
      },
      "source": [
        ""
      ],
      "execution_count": null,
      "outputs": []
    }
  ]
}