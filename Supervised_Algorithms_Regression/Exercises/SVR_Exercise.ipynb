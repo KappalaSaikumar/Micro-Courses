{
  "nbformat": 4,
  "nbformat_minor": 0,
  "metadata": {
    "colab": {
      "name": "SVR_Exercise",
      "provenance": [],
      "collapsed_sections": [],
      "authorship_tag": "ABX9TyPQCkoTx+pUNGozJnhUWXRU",
      "include_colab_link": true
    },
    "kernelspec": {
      "name": "python3",
      "display_name": "Python 3"
    }
  },
  "cells": [
    {
      "cell_type": "markdown",
      "metadata": {
        "id": "view-in-github",
        "colab_type": "text"
      },
      "source": [
        "<a href=\"https://colab.research.google.com/github/dphi-official/Micro-Courses/blob/master/Supervised_Algorithms_Regression/Exercises/SVR_Exercise.ipynb\" target=\"_parent\"><img src=\"https://colab.research.google.com/assets/colab-badge.svg\" alt=\"Open In Colab\"/></a>"
      ]
    },
    {
      "cell_type": "markdown",
      "metadata": {
        "id": "Dw-GsPG5_rEl"
      },
      "source": [
        "# Objective\n",
        "The main aim of the data is to predict the total UPDRS score ('total_UPDRS') of early-stage Parkinson's disease patients from the voice measures.\n",
        "\n",
        "## About Data\n",
        "This dataset is composed of a range of biomedical voice measurements from 42 people with early-stage Parkinson's disease recruited to a six-month trial of a telemonitoring device for remote symptom progression monitoring. The recordings were automatically captured in the patient's homes.\n",
        "\n",
        "This data is taken from [Data World](https://data.world/uci/parkinsons-telemonitoring/workspace/file?filename=parkinsons_updrs.data.csv) and simplified."
      ]
    },
    {
      "cell_type": "markdown",
      "metadata": {
        "id": "2V_NpTCpBnAx"
      },
      "source": [
        "## Tasks\n",
        "1. Load the data from https://raw.githubusercontent.com/dphi-official/Datasets/master/parkinsons.csv\n",
        "2. Split the data into train and test sets with ratio 80:20\n",
        "3. Create a SVR model with RBF kernel. Train it and find out its MSE and R2 score.\n",
        "4. Create a SVR model with Linear kernel. Train it and find out its MSE and R2 score. \n",
        "5. Compare the two and see which one performs better. \n",
        "6. Try using diffferent values of c and gamma to improve model performance."
      ]
    },
    {
      "cell_type": "code",
      "metadata": {
        "id": "4z3S8OWyUeoI"
      },
      "source": [
        ""
      ],
      "execution_count": null,
      "outputs": []
    }
  ]
}