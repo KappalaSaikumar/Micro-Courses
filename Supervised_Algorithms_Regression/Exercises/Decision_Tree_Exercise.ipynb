{
  "nbformat": 4,
  "nbformat_minor": 0,
  "metadata": {
    "colab": {
      "name": "Decision_Tree_Exercise.ipynb",
      "provenance": [],
      "collapsed_sections": [],
      "authorship_tag": "ABX9TyNWYu23tht2vfrK326RchBR",
      "include_colab_link": true
    },
    "kernelspec": {
      "name": "python3",
      "display_name": "Python 3"
    }
  },
  "cells": [
    {
      "cell_type": "markdown",
      "metadata": {
        "id": "view-in-github",
        "colab_type": "text"
      },
      "source": [
        "<a href=\"https://colab.research.google.com/github/dphi-official/Micro-Courses/blob/master/Supervised_Algorithms_Regression/Exercises/Decision_Tree_Exercise.ipynb\" target=\"_parent\"><img src=\"https://colab.research.google.com/assets/colab-badge.svg\" alt=\"Open In Colab\"/></a>"
      ]
    },
    {
      "cell_type": "markdown",
      "metadata": {
        "id": "F-L5f_wnw3aI"
      },
      "source": [
        "Concrete is a highly complex material. The slump flow of concrete is not \n",
        "only determined by the water content, but that is also influenced by other concrete \n",
        "ingredients.\n",
        "\n",
        "\n",
        "# Objective\n",
        "To determine the slump flow of concrete i.e SLUMP(cm) using Decision Tree Regressor.\n",
        "\n",
        "This data was taken from [Data World](https://data.world/uci/concrete-slump-test/workspace/project-summary?agentid=uci&datasetid=concrete-slump-test) and simplified."
      ]
    },
    {
      "cell_type": "markdown",
      "metadata": {
        "id": "l-Wl6s_-6SFS"
      },
      "source": [
        "## Tasks\n",
        "1. Load the data from https://raw.githubusercontent.com/dphi-official/Datasets/master/slump_data.csv\n",
        "2. Separate it into input and target variables \n",
        "3. Split the data into train and test sets\n",
        "4. Create and train a Decision Tree Regressor \n",
        "5. Calculate the MSE score\n",
        "6. Calculate the R2 score"
      ]
    },
    {
      "cell_type": "code",
      "metadata": {
        "id": "phqCDEDkwvde"
      },
      "source": [
        ""
      ],
      "execution_count": null,
      "outputs": []
    }
  ]
}