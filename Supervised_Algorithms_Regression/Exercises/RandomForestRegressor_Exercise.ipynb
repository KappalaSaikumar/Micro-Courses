{
  "nbformat": 4,
  "nbformat_minor": 0,
  "metadata": {
    "colab": {
      "name": "RandomForestRegressor_Exercise.ipynb",
      "provenance": [],
      "collapsed_sections": [],
      "authorship_tag": "ABX9TyN4un7nD4ERcKpHHlAI9+mD",
      "include_colab_link": true
    },
    "kernelspec": {
      "name": "python3",
      "display_name": "Python 3"
    }
  },
  "cells": [
    {
      "cell_type": "markdown",
      "metadata": {
        "id": "view-in-github",
        "colab_type": "text"
      },
      "source": [
        "<a href=\"https://colab.research.google.com/github/dphi-official/Micro-Courses/blob/master/Supervised_Algorithms_Regression/Exercises/RandomForestRegressor_Exercise.ipynb\" target=\"_parent\"><img src=\"https://colab.research.google.com/assets/colab-badge.svg\" alt=\"Open In Colab\"/></a>"
      ]
    },
    {
      "cell_type": "markdown",
      "metadata": {
        "id": "nTUtrQ6e-UEO"
      },
      "source": [
        "# Background\n",
        "With over 1,200 quick service restaurants across the globe, TFI is the company behind some of the world's most well-known brands: Burger King, Sbarro, Popeyes, Usta Donerci, and Arby’s. They employ over 20,000 people in Europe and Asia and make significant daily investments in developing new restaurant sites.\n",
        "\n",
        "Right now, deciding when and where to open new restaurants is largely a subjective process based on the personal judgement and experience of development teams. This subjective data is difficult to accurately extrapolate across geographies and cultures. \n",
        "\n",
        "New restaurant sites take large investments of time and capital to get up and running. When the wrong location for a restaurant brand is chosen, the site closes within 18 months and operating losses are incurred. \n",
        "\n",
        "Finding a mathematical model to increase the effectiveness of investments in new restaurant sites would allow TFI to invest more in other important business areas, like sustainability, innovation, and training for new employees\n",
        "\n",
        "# Objective\n",
        "Head the growing data science team of TFI in Istanbul or Shanghai. Using demographic, real estate, and commercial data, you need to predict the annual restaurant sales of 100,000 regional locations i.e estimate the revenue using Random Forest Regressor.\n",
        "\n",
        "The data is taken from [Kaggle](https://www.kaggle.com/c/restaurant-revenue-prediction/data)."
      ]
    },
    {
      "cell_type": "markdown",
      "metadata": {
        "id": "G39hDVB-_vxk"
      },
      "source": [
        "## Tasks\n",
        "1. Load the data from https://raw.githubusercontent.com/dphi-official/Datasets/master/restaurant_revenue.csv\n",
        "2. The data involves categorical features as well as dates so some pre-processing is required.\n",
        "3. Build a Random Forest Regressor on the data and train it\n",
        "4. Evaluate the model using RMSE and R2 Score\n",
        "5. Try to tweak the hyperparameters and improve model performance."
      ]
    },
    {
      "cell_type": "code",
      "metadata": {
        "id": "lW1yuTO6_o-W"
      },
      "source": [
        ""
      ],
      "execution_count": null,
      "outputs": []
    }
  ]
}