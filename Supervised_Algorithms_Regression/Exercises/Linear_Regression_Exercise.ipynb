{
  "nbformat": 4,
  "nbformat_minor": 0,
  "metadata": {
    "colab": {
      "name": "Linear_Regression_Exercise.ipynb",
      "provenance": [],
      "collapsed_sections": [],
      "authorship_tag": "ABX9TyMpQjL4qNzdehCKX6SZnCZZ",
      "include_colab_link": true
    },
    "kernelspec": {
      "name": "python3",
      "display_name": "Python 3"
    }
  },
  "cells": [
    {
      "cell_type": "markdown",
      "metadata": {
        "id": "view-in-github",
        "colab_type": "text"
      },
      "source": [
        "<a href=\"https://colab.research.google.com/github/dphi-official/Micro-Courses/blob/master/Supervised_Algorithms_Regression/Exercises/Linear_Regression_Exercise.ipynb\" target=\"_parent\"><img src=\"https://colab.research.google.com/assets/colab-badge.svg\" alt=\"Open In Colab\"/></a>"
      ]
    },
    {
      "cell_type": "markdown",
      "metadata": {
        "id": "Z3d-YIGIiQa6"
      },
      "source": [
        "# Objective\n",
        "Given Canada's adjusted net national income per capita (current US$) until the year 2018, answer the following questions using a Linear Regression Model.\n",
        "\n",
        "The data has been taken from [The World Bank ](https://data.worldbank.org/indicator/NY.ADJ.NNTY.PC.CD?locations=CA)and simplified."
      ]
    },
    {
      "cell_type": "markdown",
      "metadata": {
        "id": "vP8CqgQ47MY9"
      },
      "source": [
        "## Import Libraries\n",
        "These libraries will be required and sufficient to perform this exercise"
      ]
    },
    {
      "cell_type": "code",
      "metadata": {
        "id": "FeWxaDDwhQ1A"
      },
      "source": [
        "import pandas as pd\n",
        "import numpy as np\n",
        "from sklearn.linear_model import LinearRegression\n",
        "import matplotlib.pyplot as plt\n",
        "from sklearn.model_selection import train_test_split\n",
        "from sklearn.metrics import mean_squared_error "
      ],
      "execution_count": null,
      "outputs": []
    },
    {
      "cell_type": "markdown",
      "metadata": {
        "id": "KvvJYOdi8jLb"
      },
      "source": [
        "## Load Data\n",
        "Use the following link to load the CSV file of the data.\n",
        "\n",
        "https://raw.githubusercontent.com/dphi-official/Datasets/master/canada_income.csv "
      ]
    },
    {
      "cell_type": "code",
      "metadata": {
        "id": "8c1dGVCA8fYT"
      },
      "source": [
        ""
      ],
      "execution_count": null,
      "outputs": []
    },
    {
      "cell_type": "markdown",
      "metadata": {
        "id": "U_3tj7uu9dXq"
      },
      "source": [
        "## Divide data as Input and Target Variables\n",
        "Put the year column into X and income column into y."
      ]
    },
    {
      "cell_type": "code",
      "metadata": {
        "id": "udZZbkgV-EqW"
      },
      "source": [
        ""
      ],
      "execution_count": null,
      "outputs": []
    },
    {
      "cell_type": "markdown",
      "metadata": {
        "id": "aUjJX0jY-J-3"
      },
      "source": [
        "## Split data into Train and Test Sets\n",
        "Split the data and put it into variables X_train, X_test, y_train, y_test.\n",
        "\n",
        "The split ratio should be 80:20.\n",
        "\n",
        "**Set the random_state as 0, otherwise you'll get different results.**"
      ]
    },
    {
      "cell_type": "code",
      "metadata": {
        "id": "P2Ey4KgN-gib"
      },
      "source": [
        ""
      ],
      "execution_count": null,
      "outputs": []
    },
    {
      "cell_type": "markdown",
      "metadata": {
        "id": "K6IsNV_h-ikK"
      },
      "source": [
        "## Create and Train the model\n",
        "Create a Linear Regression object.\n",
        "\n",
        "Use the fit method to train the model."
      ]
    },
    {
      "cell_type": "code",
      "metadata": {
        "id": "4oKuKDlo-0mh"
      },
      "source": [
        ""
      ],
      "execution_count": null,
      "outputs": []
    },
    {
      "cell_type": "markdown",
      "metadata": {
        "id": "Zvmwb4M9-8S5"
      },
      "source": [
        "Now that the model has been trained, perform the appropriate steps to answer the given questions. "
      ]
    }
  ]
}